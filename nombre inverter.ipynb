{
 "cells": [
  {
   "cell_type": "code",
   "execution_count": 20,
   "id": "aa0769dd-f262-484e-b270-3c3503e7abc2",
   "metadata": {},
   "outputs": [
    {
     "ename": "SyntaxError",
     "evalue": "incomplete input (766012317.py, line 7)",
     "output_type": "error",
     "traceback": [
      "\u001b[1;36m  Cell \u001b[1;32mIn[20], line 7\u001b[1;36m\u001b[0m\n\u001b[1;33m    print(name[::- 1] +\" \"+lastname[::- 1]\u001b[0m\n\u001b[1;37m                                          ^\u001b[0m\n\u001b[1;31mSyntaxError\u001b[0m\u001b[1;31m:\u001b[0m incomplete input\n"
     ]
    }
   ],
   "source": [
    "nombre = input(\"escribe tu nombre: \")\n",
    "apellido = input(\"escribe tu apellido: \")\n",
    "\n",
    "invertir_nombre = nombre[::-1]\n",
    "invertir_apellido = apellido[::-1]\n",
    "\n",
    "print(name[::- 1] +\" \"+lastname[::- 1]"
   ]
  },
  {
   "cell_type": "code",
   "execution_count": null,
   "id": "18dd85d0-81c3-4ba3-a137-1ba431a510ba",
   "metadata": {},
   "outputs": [],
   "source": []
  }
 ],
 "metadata": {
  "kernelspec": {
   "display_name": "Python [conda env:base] *",
   "language": "python",
   "name": "conda-base-py"
  },
  "language_info": {
   "codemirror_mode": {
    "name": "ipython",
    "version": 3
   },
   "file_extension": ".py",
   "mimetype": "text/x-python",
   "name": "python",
   "nbconvert_exporter": "python",
   "pygments_lexer": "ipython3",
   "version": "3.12.7"
  }
 },
 "nbformat": 4,
 "nbformat_minor": 5
}
